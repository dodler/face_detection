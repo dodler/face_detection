{
 "cells": [
  {
   "cell_type": "code",
   "execution_count": 1,
   "metadata": {
    "collapsed": true
   },
   "outputs": [],
   "source": [
    "import sys\n",
    "import os\n",
    "\n",
    "import cv2\n",
    "import dlib\n",
    "import glob\n",
    "from skimage import io\n",
    "from math import pi\n",
    "from math import atan"
   ]
  },
  {
   "cell_type": "code",
   "execution_count": 2,
   "metadata": {},
   "outputs": [],
   "source": [
    "predictor_path = '/home/lyan/PycharmProjects/face_detection/shape_predictor_68_face_landmarks.dat'\n",
    "faces_folder_path = '/home/lyan/Documents/work/data/faces/test2'\n",
    "\n",
    "detector = dlib.get_frontal_face_detector()\n",
    "predictor = dlib.shape_predictor(predictor_path)\n",
    "win = dlib.image_window()\n",
    "\n",
    "rad_to_deg = 57.2958"
   ]
  },
  {
   "cell_type": "code",
   "execution_count": 3,
   "metadata": {},
   "outputs": [],
   "source": [
    "def face_angle(shape_parts, image):\n",
    "    nose_high_x = shape_parts[27].x\n",
    "    nose_high_y = shape_parts[27].y\n",
    "\n",
    "    nose_low_x = shape_parts[30].x\n",
    "    nose_low_y = shape_parts[30].y\n",
    "\n",
    "    nose_width = abs(nose_high_x - nose_low_x)\n",
    "    nose_height = abs(nose_high_y - nose_low_y)\n",
    "\n",
    "    eye_left_left_p_x = shape_parts[36].x\n",
    "    eye_left_left_p_y = shape_parts[36].y\n",
    "\n",
    "    eye_left_right_p_x = shape_parts[39].x\n",
    "    eye_left_right_p_y = shape_parts[39].y\n",
    "\n",
    "    eye_right_left_p_x = shape_parts[42].x\n",
    "    eye_right_left_p_y = shape_parts[42].y\n",
    "\n",
    "    eye_right_right_p_x = shape_parts[45].x\n",
    "    eye_right_right_p_y = shape_parts[45].y\n",
    "\n",
    "    left_eye_width = abs(eye_left_left_p_x - eye_left_right_p_x) + 0.01\n",
    "    left_eye_height = abs(eye_left_left_p_y - eye_left_right_p_y) + 0.01\n",
    "    right_eye_width = abs(eye_right_left_p_x - eye_right_right_p_x) + 0.01\n",
    "    right_eye_height = abs(eye_right_left_p_y - eye_right_right_p_y) + 0.01  # to avoid zeros\n",
    "\n",
    "    nose_top_x = shape_parts[30].x\n",
    "    nose_top_y = shape_parts[30].y\n",
    "\n",
    "    nose_left_x = shape_parts[31].x\n",
    "    nose_left_y = shape_parts[31].y\n",
    "\n",
    "    nose_right_x = shape_parts[35].x\n",
    "    nose_right_y = shape_parts[35].y\n",
    "\n",
    "    nose_bot_x = shape_parts[34].x\n",
    "    nose_bot_y = shape_parts[34].y\n",
    "\n",
    "    horizontal_a = nose_right_y - nose_left_y\n",
    "    horizontal_b = nose_right_x - nose_left_x\n",
    "    horizontal_c = nose_left_x * nose_right_y - nose_right_x * nose_left_y\n",
    "\n",
    "    vertical_a = nose_bot_y - nose_top_y\n",
    "    vertical_b = nose_bot_x - nose_top_x\n",
    "    vertical_c = nose_top_x * nose_bot_y - nose_bot_x * nose_top_y\n",
    "\n",
    "    intersect_x = abs((horizontal_c * vertical_b - vertical_c * horizontal_b) / (\n",
    "    horizontal_a * vertical_b - vertical_a * horizontal_b))\n",
    "\n",
    "    intersect_y = abs((horizontal_a * vertical_c - vertical_a * horizontal_c) / (\n",
    "    horizontal_a * vertical_b - vertical_a * horizontal_b))\n",
    "\n",
    "    # cv2.circle(image, center=(intersect_x, intersect_y), radius=3, color=0)\n",
    "\n",
    "    # print image.shape\n",
    "    # print 'intersection points', intersect_x, intersect_y\n",
    "\n",
    "    nose_top_half_size = 1.0 * abs(nose_top_y - intersect_x)\n",
    "    nose_bot_half_size = 1.0 * abs(nose_bot_y - intersect_y)\n",
    "\n",
    "    print 'nose ratio = ', nose_top_half_size / nose_bot_half_size\n",
    "\n",
    "    print 'width ratio=', (left_eye_width / (1.0 * right_eye_width))\n",
    "\n",
    "    print 'angle=', rad_to_deg * (nose_width / (1.0 * nose_height))\n",
    "    print 'eye angle=', (left_eye_width / (1.0 * left_eye_height))"
   ]
  },
  {
   "cell_type": "code",
   "execution_count": null,
   "metadata": {},
   "outputs": [],
   "source": [
    ""
   ]
  }
 ],
 "metadata": {
  "kernelspec": {
   "display_name": "Python 2",
   "language": "python",
   "name": "python2"
  },
  "language_info": {
   "codemirror_mode": {
    "name": "ipython",
    "version": 2.0
   },
   "file_extension": ".py",
   "mimetype": "text/x-python",
   "name": "python",
   "nbconvert_exporter": "python",
   "pygments_lexer": "ipython2",
   "version": "2.7.6"
  }
 },
 "nbformat": 4,
 "nbformat_minor": 0
}